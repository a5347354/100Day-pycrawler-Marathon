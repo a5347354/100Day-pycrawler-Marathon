{
 "cells": [
  {
   "cell_type": "markdown",
   "metadata": {},
   "source": [
    "# PTT 網路爬蟲實作練習\n",
    "\n",
    "\n",
    "* 能夠利用 Request + BeatifulSour 撰寫爬蟲，並存放到合適的資料結構\n"
   ]
  },
  {
   "cell_type": "markdown",
   "metadata": {},
   "source": [
    "## 作業目標\n",
    "\n",
    "根據範例 ，完成以下問題：\n",
    "\n",
    "* ① 印出最新文章的「作者」「標題」「時間」\n",
    "* ② 印出第一頁所有文章的「作者」「標題」「時間」\n"
   ]
  },
  {
   "cell_type": "markdown",
   "metadata": {},
   "source": [
    "### ① 印出最新文章的「作者」「標題」「時間」"
   ]
  },
  {
   "cell_type": "code",
   "execution_count": 6,
   "metadata": {},
   "outputs": [
    {
     "name": "stdout",
     "output_type": "stream",
     "text": [
      "[Live] 太陽 @ 國王\n",
      "作者: Rambo (香帥)\n",
      "時間: Sun Dec 29 09:30:00 2019\n"
     ]
    }
   ],
   "source": [
    "import requests\n",
    "from bs4 import BeautifulSoup\n",
    "\n",
    "url = 'https://www.ptt.cc/bbs/NBA/index.html'\n",
    "r = requests.get(url)\n",
    "\n",
    "soup = BeautifulSoup(r.text, \"html5lib\")\n",
    "i = 0\n",
    "for d in soup.find_all(class_=\"title\"):\n",
    "    if i == 0:\n",
    "        print(d.text.replace('\\t', '').replace('\\n', ''))\n",
    "        try:\n",
    "            r = BeautifulSoup(requests.get('https://www.ptt.cc'+d.find('a')['href']).text, \"html5lib\")\n",
    "            value =  r.find_all(class_='article-meta-value')\n",
    "            print('作者: ' + value[0].text)\n",
    "            print('時間: ' + value[3].text)\n",
    "        except:\n",
    "            continue\n",
    "    i+=1"
   ]
  },
  {
   "cell_type": "markdown",
   "metadata": {},
   "source": [
    "### ② 印出第一頁所有文章的「作者」「標題」「時間」"
   ]
  },
  {
   "cell_type": "code",
   "execution_count": null,
   "metadata": {},
   "outputs": [],
   "source": [
    "import requests\n",
    "from bs4 import BeautifulSoup\n",
    "\n",
    "url = 'https://www.ptt.cc/bbs/NBA/index.html'\n",
    "r = requests.get(url)\n",
    "\n",
    "soup = BeautifulSoup(r.text, \"html5lib\")\n",
    "\n",
    "for d in soup.find_all(class_=\"title\"):\n",
    "    print(d.text.replace('\\t', '').replace('\\n', ''))\n",
    "    try:\n",
    "        r = BeautifulSoup(requests.get('https://www.ptt.cc'+d.find('a')['href']).text, \"html5lib\")\n",
    "        value =  r.find_all(class_='article-meta-value')\n",
    "        print('作者: ' + value[0].text)\n",
    "        print('時間: ' + value[3].text)\n",
    "    except:\n",
    "        continue"
   ]
  },
  {
   "cell_type": "markdown",
   "metadata": {},
   "source": [
    "### ③ 試著爬爬看其他版的文章"
   ]
  },
  {
   "cell_type": "code",
   "execution_count": 8,
   "metadata": {},
   "outputs": [
    {
     "name": "stdout",
     "output_type": "stream",
     "text": [
      "Re: [情報] Corpo X 發熱衣 3件399\n",
      "作者: ding1211 (大鼎)\n",
      "時間: Fri Dec 27 15:03:53 2019\n",
      "[情報] Friday影音1/1前每天1部免費電影(火箭人\n",
      "作者: a031405 (a031405)\n",
      "時間: Fri Dec 27 15:31:37 2019\n",
      "[情報] 家樂福這檔的買一送一商品\n",
      "作者: boof (小西西)\n",
      "時間: Fri Dec 27 15:52:02 2019\n",
      "[情報] 日本紡織雙人電毯1480輸碼折100\n",
      "作者: shinane (開心最重要~)\n",
      "時間: Fri Dec 27 15:57:17 2019\n",
      "[情報] friday影音 玩命關頭：特別行動 序號\n",
      "作者: pshf (粉紅獅)\n",
      "時間: Fri Dec 27 20:43:36 2019\n",
      "[情報] 基隆老店連珍 買草莓蛋糕送2盒芋泥球\n",
      "作者: alpac (亞太實驗室認證聯盟)\n",
      "時間: Fri Dec 27 22:18:55 2019\n",
      "[情報] 玉山銀行感謝禮\n",
      "作者: imaluckygirl (girl)\n",
      "時間: Fri Dec 27 22:23:32 2019\n",
      "Dr.Martens出清\n",
      "作者: sharon850425 (ming)\n",
      "時間: Fri Dec 27 22:27:31 2019\n",
      "[情報] 109年嗶嗶繳回饋活動\n",
      "作者: voyagesam (Samantha)\n",
      "時間: Sat Dec 28 01:22:46 2019\n",
      "[情報] 無印良品小白鞋週末特價$699\n",
      "作者: tim84312 (Tim9453)\n",
      "時間: Sat Dec 28 09:54:35 2019\n",
      "[情報] 美粒果蘋果蘇打1250ml 26元\n",
      "作者: loken0408 (男人野蠻劍)\n",
      "時間: Sat Dec 28 16:38:34 2019\n",
      "[情報] Friday影音-玩具總動員4/英文版\n",
      "作者: copyoung (copyoung)\n",
      "時間: Sat Dec 28 17:05:19 2019\n",
      "[情報] 全聯 舒跑鹼性離子水850ml 一瓶14.5元\n",
      "作者: bubu26 (白寶)\n",
      "時間: Sat Dec 28 20:21:56 2019\n",
      "[情報]籌碼K線APP免費獲得7天VIP權限和投資攻略\n",
      "作者: j6gjvm00 (呀)\n",
      "時間: Sat Dec 28 20:30:09 2019\n",
      "[情報] 新北 戶外露營桌椅特賣會\n",
      "作者: djuri (djuri)\n",
      "時間: Sat Dec 28 23:08:49 2019\n",
      "[情報] LINE TV 12/30-01/03 完整觀劇送20/40點\n",
      "作者: bleachwe ((′・ω・‵))\n",
      "時間: Sun Dec 29 00:04:20 2019\n",
      "[情報] 萊爾富買1送1搭國泰滿250送25（爽砍3折\n",
      "作者: operatorm (雲淡風輕,風和日麗)\n",
      "時間: Sun Dec 29 00:31:03 2019\n",
      "[情報] Tidal 特價 5 USD 150天\n",
      "作者: stu51211 (做就對了)\n",
      "時間: Sun Dec 29 02:55:13 2019\n",
      "[情報] line 豬豬系列貼圖特價\n",
      "作者: t33682 (天然呆粉圓)\n",
      "時間: Sun Dec 29 10:55:25 2019\n",
      "Re: [情報] Google意見回饋獎勵 台灣開放\n",
      "作者: TGTplayer (YG)\n",
      "時間: Sun Dec 29 11:57:58 2019\n"
     ]
    }
   ],
   "source": [
    "import requests\n",
    "from bs4 import BeautifulSoup\n",
    "\n",
    "url = 'https://www.ptt.cc/bbs/Lifeismoney/index2762.html'\n",
    "r = requests.get(url)\n",
    "\n",
    "soup = BeautifulSoup(r.text, \"html5lib\")\n",
    "\n",
    "for d in soup.find_all(class_=\"title\"):\n",
    "    print(d.text.replace('\\t', '').replace('\\n', ''))\n",
    "    try:\n",
    "        r = BeautifulSoup(requests.get('https://www.ptt.cc'+d.find('a')['href']).text, \"html5lib\")\n",
    "        value =  r.find_all(class_='article-meta-value')\n",
    "        print('作者: ' + value[0].text)\n",
    "        print('時間: ' + value[3].text)\n",
    "    except:\n",
    "        continue"
   ]
  },
  {
   "cell_type": "code",
   "execution_count": null,
   "metadata": {},
   "outputs": [],
   "source": []
  }
 ],
 "metadata": {
  "kernelspec": {
   "display_name": "Python 3",
   "language": "python",
   "name": "python3"
  },
  "language_info": {
   "codemirror_mode": {
    "name": "ipython",
    "version": 3
   },
   "file_extension": ".py",
   "mimetype": "text/x-python",
   "name": "python",
   "nbconvert_exporter": "python",
   "pygments_lexer": "ipython3",
   "version": "3.7.3"
  }
 },
 "nbformat": 4,
 "nbformat_minor": 2
}
